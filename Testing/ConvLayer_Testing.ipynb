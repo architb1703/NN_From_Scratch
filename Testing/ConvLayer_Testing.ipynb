{
 "cells": [
  {
   "cell_type": "code",
   "execution_count": 1,
   "id": "ee9ac171-0367-408a-a94a-5f0983d97130",
   "metadata": {},
   "outputs": [],
   "source": [
    "from Layers.conv import Conv2DLayer\n",
    "import torch, torch.nn as nn"
   ]
  },
  {
   "cell_type": "code",
   "execution_count": 10,
   "id": "4d4204d7-67d5-485a-b23a-8c8bced4b811",
   "metadata": {},
   "outputs": [],
   "source": [
    "dummy_img_1 = torch.zeros((3,5,5))\n",
    "dummy_img_2 = torch.arange(25).view((1,5,5))"
   ]
  },
  {
   "cell_type": "code",
   "execution_count": 11,
   "id": "f4bbe006-76d2-44ff-bde1-262e2b569d60",
   "metadata": {},
   "outputs": [],
   "source": [
    "conv_layer = Conv2DLayer(window_size=(3,3), stride=(1,1), channels_in=3, channels_out=8)\n",
    "out1 = conv_layer(dummy_img_1)\n",
    "assert out1.shape==(8,3,3)"
   ]
  },
  {
   "cell_type": "code",
   "execution_count": 12,
   "id": "014c674c-0a26-4a71-8019-d988850a23df",
   "metadata": {},
   "outputs": [],
   "source": [
    "conv_layer = Conv2DLayer(window_size=(3,3), stride=(2,2), channels_in=3, channels_out=8)\n",
    "out2 = conv_layer(dummy_img_1)\n",
    "assert out2.shape==(8,2,2)"
   ]
  },
  {
   "cell_type": "code",
   "execution_count": 13,
   "id": "caf227b2-9617-4f1c-9b69-153565823776",
   "metadata": {},
   "outputs": [
    {
     "data": {
      "text/plain": [
       "tensor([[[ 54.,  72.],\n",
       "         [144., 162.]]])"
      ]
     },
     "execution_count": 13,
     "metadata": {},
     "output_type": "execute_result"
    }
   ],
   "source": [
    "conv_layer = Conv2DLayer(window_size=(3,3), stride=(2,2), channels_in=1, channels_out=1)\n",
    "conv_layer.weights = torch.ones((1,1,3,3))\n",
    "out3 = conv_layer(dummy_img_2)\n",
    "out3"
   ]
  },
  {
   "cell_type": "code",
   "execution_count": 14,
   "id": "f289965e-bfb5-49e2-be2f-3c0668a1d2fa",
   "metadata": {},
   "outputs": [
    {
     "data": {
      "text/plain": [
       "tensor([[[ 0,  1,  2,  3,  4],\n",
       "         [ 5,  6,  7,  8,  9],\n",
       "         [10, 11, 12, 13, 14],\n",
       "         [15, 16, 17, 18, 19],\n",
       "         [20, 21, 22, 23, 24]]])"
      ]
     },
     "execution_count": 14,
     "metadata": {},
     "output_type": "execute_result"
    }
   ],
   "source": [
    "dummy_img_2"
   ]
  },
  {
   "cell_type": "code",
   "execution_count": 16,
   "id": "4baf2ad4-3e45-414d-ab7a-3ce704e69b41",
   "metadata": {},
   "outputs": [
    {
     "data": {
      "text/plain": [
       "tensor([[[1., 1., 2., 1., 1.],\n",
       "         [1., 1., 2., 1., 1.],\n",
       "         [2., 2., 4., 2., 2.],\n",
       "         [1., 1., 2., 1., 1.],\n",
       "         [1., 1., 2., 1., 1.]]])"
      ]
     },
     "execution_count": 16,
     "metadata": {},
     "output_type": "execute_result"
    }
   ],
   "source": [
    "conv_layer.grad_calc(torch.ones(out3.shape))"
   ]
  },
  {
   "cell_type": "code",
   "execution_count": 17,
   "id": "820b8923-b853-4181-b5f5-5bca0d838326",
   "metadata": {},
   "outputs": [
    {
     "data": {
      "text/plain": [
       "tensor([[[[24., 28., 32.],\n",
       "          [44., 48., 52.],\n",
       "          [64., 68., 72.]]]])"
      ]
     },
     "execution_count": 17,
     "metadata": {},
     "output_type": "execute_result"
    }
   ],
   "source": [
    "conv_layer.w_grads"
   ]
  },
  {
   "cell_type": "code",
   "execution_count": 18,
   "id": "8b1fcef3-1fb6-414d-81ec-42ca4040888c",
   "metadata": {},
   "outputs": [
    {
     "data": {
      "text/plain": [
       "tensor([[4.]])"
      ]
     },
     "execution_count": 18,
     "metadata": {},
     "output_type": "execute_result"
    }
   ],
   "source": [
    "conv_layer.b_grads"
   ]
  },
  {
   "cell_type": "code",
   "execution_count": null,
   "id": "3f974add-fe61-4044-98ba-a4f9b7ad7539",
   "metadata": {},
   "outputs": [],
   "source": []
  }
 ],
 "metadata": {
  "kernelspec": {
   "display_name": "Python (jupyter_env)",
   "language": "python",
   "name": "jupyter_env"
  },
  "language_info": {
   "codemirror_mode": {
    "name": "ipython",
    "version": 3
   },
   "file_extension": ".py",
   "mimetype": "text/x-python",
   "name": "python",
   "nbconvert_exporter": "python",
   "pygments_lexer": "ipython3",
   "version": "3.13.3"
  }
 },
 "nbformat": 4,
 "nbformat_minor": 5
}
