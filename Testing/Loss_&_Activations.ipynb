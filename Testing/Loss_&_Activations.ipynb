{
 "cells": [
  {
   "cell_type": "code",
   "execution_count": 1,
   "id": "7acd2079",
   "metadata": {},
   "outputs": [],
   "source": [
    "import torch\n",
    "from Metrics.acc import accuracy\n",
    "from Metrics.f1 import f1_score, binary_precision, binary_recall"
   ]
  },
  {
   "cell_type": "markdown",
   "id": "99108908",
   "metadata": {},
   "source": [
    "# Edge Cases for Accuracy"
   ]
  },
  {
   "cell_type": "code",
   "execution_count": 2,
   "id": "11a42a01",
   "metadata": {},
   "outputs": [
    {
     "data": {
      "text/plain": [
       "tensor(0.)"
      ]
     },
     "execution_count": 2,
     "metadata": {},
     "output_type": "execute_result"
    }
   ],
   "source": [
    "a = torch.zeros((1,32))\n",
    "b = torch.ones((1,32))\n",
    "accuracy(a,b)"
   ]
  },
  {
   "cell_type": "code",
   "execution_count": 5,
   "id": "3b91e934",
   "metadata": {},
   "outputs": [
    {
     "data": {
      "text/plain": [
       "tensor(1.)"
      ]
     },
     "execution_count": 5,
     "metadata": {},
     "output_type": "execute_result"
    }
   ],
   "source": [
    "a = torch.zeros((1,32))\n",
    "b = torch.zeros((1,32))\n",
    "accuracy(a,b)"
   ]
  },
  {
   "cell_type": "markdown",
   "id": "1a3b44ec",
   "metadata": {},
   "source": [
    "# Edge Cases for F1 Score\n",
    "\n",
    "F1 score can be zero under:\n",
    "1. TP=FP=0 & FN>0\n",
    "2. TP=FN=0 & FP>0\n",
    "3. TP=0 & FP>0 & FN>0"
   ]
  },
  {
   "cell_type": "code",
   "execution_count": 9,
   "id": "6b5ae607",
   "metadata": {},
   "outputs": [
    {
     "data": {
      "text/plain": [
       "(tensor(0.), tensor(nan), tensor(0.))"
      ]
     },
     "execution_count": 9,
     "metadata": {},
     "output_type": "execute_result"
    }
   ],
   "source": [
    "#Case 1. TP=FP=0 & FN>0\n",
    "\n",
    "a = torch.zeros((1,32))\n",
    "b = torch.ones((1,32))\n",
    "binary_precision(a,b), binary_recall(a,b), f1_score(a,b)"
   ]
  },
  {
   "cell_type": "code",
   "execution_count": 19,
   "id": "b0409b95",
   "metadata": {},
   "outputs": [
    {
     "data": {
      "text/plain": [
       "(tensor(nan), tensor(0.), tensor(0.))"
      ]
     },
     "execution_count": 19,
     "metadata": {},
     "output_type": "execute_result"
    }
   ],
   "source": [
    "#Case 2. TP=FN=0 & FP>0\n",
    "\n",
    "a = torch.ones((1,32))\n",
    "b = torch.zeros((1,32))\n",
    "binary_precision(a,b), binary_recall(a,b), f1_score(a,b)"
   ]
  },
  {
   "cell_type": "code",
   "execution_count": 20,
   "id": "4d6cdad8",
   "metadata": {},
   "outputs": [
    {
     "data": {
      "text/plain": [
       "(tensor(0.), tensor(0.), tensor(0.))"
      ]
     },
     "execution_count": 20,
     "metadata": {},
     "output_type": "execute_result"
    }
   ],
   "source": [
    "#Case 3. TP=0 & FP>0 & FN>0\n",
    "\n",
    "a = torch.Tensor([1,0,1])\n",
    "b = torch.Tensor([0,1,0])\n",
    "binary_precision(a,b), binary_recall(a,b), f1_score(a,b)"
   ]
  },
  {
   "cell_type": "code",
   "execution_count": 18,
   "id": "8b94eba6",
   "metadata": {},
   "outputs": [
    {
     "data": {
      "text/plain": [
       "(tensor(nan), tensor(nan), tensor(nan))"
      ]
     },
     "execution_count": 18,
     "metadata": {},
     "output_type": "execute_result"
    }
   ],
   "source": [
    "#Extreme Case (if score is nan, then basically the model is not making any mistake, the metric is not suitable for the scenario)\n",
    "#in all other cases of 0 F1 score, the model made some mistake. So all these cases do give valuable info.\n",
    "\n",
    "a = torch.zeros((1,32))\n",
    "b = torch.zeros((1,32))\n",
    "binary_precision(a,b), binary_recall(a,b), f1_score(a,b)"
   ]
  },
  {
   "cell_type": "code",
   "execution_count": null,
   "id": "d2a58964",
   "metadata": {},
   "outputs": [],
   "source": []
  }
 ],
 "metadata": {
  "kernelspec": {
   "display_name": "Python (jupyter_env)",
   "language": "python",
   "name": "jupyter_env"
  },
  "language_info": {
   "codemirror_mode": {
    "name": "ipython",
    "version": 3
   },
   "file_extension": ".py",
   "mimetype": "text/x-python",
   "name": "python",
   "nbconvert_exporter": "python",
   "pygments_lexer": "ipython3",
   "version": "3.13.3"
  }
 },
 "nbformat": 4,
 "nbformat_minor": 5
}
